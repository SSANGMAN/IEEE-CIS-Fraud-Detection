{
 "cells": [
  {
   "cell_type": "markdown",
   "metadata": {},
   "source": [
    "# 모듈 불러오기"
   ]
  },
  {
   "cell_type": "code",
   "execution_count": 2,
   "metadata": {
    "ExecuteTime": {
     "end_time": "2020-06-29T09:35:16.845108Z",
     "start_time": "2020-06-29T09:35:15.775913Z"
    }
   },
   "outputs": [
    {
     "name": "stdout",
     "output_type": "stream",
     "text": [
      "60\n",
      "['sample_submission.csv', 'test_identity.csv', 'test_transaction.csv', 'train_identity.csv', 'train_transaction.csv']\n"
     ]
    }
   ],
   "source": [
    "import numpy as np\n",
    "import pandas as pd\n",
    "\n",
    "from scipy import stats\n",
    "\n",
    "import warnings\n",
    "import os\n",
    "import gc\n",
    "warnings.filterwarnings('ignore')\n",
    "\n",
    "\n",
    "print(pd.options.display.max_rows)\n",
    "print(os.listdir('../dataset'))"
   ]
  },
  {
   "cell_type": "markdown",
   "metadata": {},
   "source": [
    "# 함수 정의"
   ]
  },
  {
   "cell_type": "markdown",
   "metadata": {},
   "source": [
    "## 메모리 사용량 감소 함수\n",
    "\n",
    "데이터프레임의 컬럼별 최대값과 최소값을 이용하여 컬럼의 타입을 변경"
   ]
  },
  {
   "cell_type": "code",
   "execution_count": 1,
   "metadata": {
    "ExecuteTime": {
     "end_time": "2020-06-29T09:35:15.773919Z",
     "start_time": "2020-06-29T09:35:15.762916Z"
    }
   },
   "outputs": [],
   "source": [
    "def reduce_mem_usage(df, verbose=True):\n",
    "    numerics = ['int16', 'int32', 'int64', 'float16', 'float32', 'float64']\n",
    "    start_mem = df.memory_usage().sum() / 1024**2    \n",
    "    for col in df.columns:\n",
    "        col_type = df[col].dtypes\n",
    "        if col_type in numerics:\n",
    "            c_min = df[col].min()\n",
    "            c_max = df[col].max()\n",
    "            if str(col_type)[:3] == 'int':\n",
    "                if c_min > np.iinfo(np.int8).min and c_max < np.iinfo(np.int8).max:\n",
    "                    df[col] = df[col].astype(np.int8)\n",
    "                elif c_min > np.iinfo(np.int16).min and c_max < np.iinfo(np.int16).max:\n",
    "                    df[col] = df[col].astype(np.int16)\n",
    "                elif c_min > np.iinfo(np.int32).min and c_max < np.iinfo(np.int32).max:\n",
    "                    df[col] = df[col].astype(np.int32)\n",
    "                elif c_min > np.iinfo(np.int64).min and c_max < np.iinfo(np.int64).max:\n",
    "                    df[col] = df[col].astype(np.int64)  \n",
    "            else:\n",
    "                if c_min > np.finfo(np.float16).min and c_max < np.finfo(np.float16).max:\n",
    "                    df[col] = df[col].astype(np.float16)\n",
    "                elif c_min > np.finfo(np.float32).min and c_max < np.finfo(np.float32).max:\n",
    "                    df[col] = df[col].astype(np.float32)\n",
    "                else:\n",
    "                    df[col] = df[col].astype(np.float64)    \n",
    "    end_mem = df.memory_usage().sum() / 1024**2\n",
    "    if verbose: print('Mem. usage decreased to {:5.2f} Mb ({:.1f}% reduction)'.format(end_mem, 100 * (start_mem - end_mem) / start_mem))\n",
    "    return df"
   ]
  },
  {
   "cell_type": "markdown",
   "metadata": {},
   "source": [
    "## 테이블 요약 함수"
   ]
  },
  {
   "cell_type": "code",
   "execution_count": 4,
   "metadata": {
    "ExecuteTime": {
     "end_time": "2020-06-29T09:35:16.876081Z",
     "start_time": "2020-06-29T09:35:16.864096Z"
    }
   },
   "outputs": [],
   "source": [
    "def resumetable(df):\n",
    "    print(f\"Dataset Shape: {df.shape}\")\n",
    "    summary = pd.DataFrame(df.dtypes,columns=['dtypes'])\n",
    "    summary = summary.reset_index()\n",
    "    summary['Name'] = summary['index']\n",
    "    summary = summary[['Name','dtypes']]\n",
    "    summary['Missing'] = df.isnull().sum().values    \n",
    "    summary['Uniques'] = df.nunique().values\n",
    "    summary['First Value'] = df.loc[0].values\n",
    "    summary['Second Value'] = df.loc[1].values\n",
    "    summary['Third Value'] = df.loc[2].values\n",
    "\n",
    "    for name in summary['Name'].value_counts().index:\n",
    "        summary.loc[summary['Name'] == name, 'Entropy'] = round(stats.entropy(df[name].value_counts(normalize=True), base=2),2) \n",
    "\n",
    "    return summary"
   ]
  },
  {
   "cell_type": "markdown",
   "metadata": {},
   "source": [
    "# 데이터 불러오기"
   ]
  },
  {
   "cell_type": "code",
   "execution_count": 6,
   "metadata": {
    "ExecuteTime": {
     "end_time": "2020-06-29T09:38:57.193155Z",
     "start_time": "2020-06-29T09:35:33.421074Z"
    }
   },
   "outputs": [
    {
     "name": "stdout",
     "output_type": "stream",
     "text": [
      "Mem. usage decreased to 25.86 Mb (42.7% reduction)\n",
      "Mem. usage decreased to 542.35 Mb (69.4% reduction)\n",
      "Train: Identitiy Dataset Shape:  (144233, 41)\n",
      "Train: Transaction Dataset Shape:  (590540, 394)\n"
     ]
    }
   ],
   "source": [
    "path = '../dataset/'\n",
    "train_identity = pd.read_csv(path + 'train_identity.csv')\n",
    "train_transaction = pd.read_csv(path + 'train_transaction.csv')\n",
    "\n",
    "train_identity = reduce_mem_usage(train_identity)\n",
    "train_transaction = reduce_mem_usage(train_transaction)\n",
    "\n",
    "print(\"Train: Identitiy Dataset Shape: \", train_identity.shape)\n",
    "print(\"Train: Transaction Dataset Shape: \", train_transaction.shape)"
   ]
  },
  {
   "cell_type": "code",
   "execution_count": 9,
   "metadata": {
    "ExecuteTime": {
     "end_time": "2020-06-29T09:42:48.727714Z",
     "start_time": "2020-06-29T09:40:01.755713Z"
    }
   },
   "outputs": [
    {
     "name": "stdout",
     "output_type": "stream",
     "text": [
      "Mem. usage decreased to 25.44 Mb (42.7% reduction)\n",
      "Mem. usage decreased to 472.59 Mb (68.9% reduction)\n",
      "test: Identitiy Dataset Shape:  (141907, 41)\n",
      "test: Transaction Dataset Shape:  (506691, 393)\n"
     ]
    }
   ],
   "source": [
    "path = '../dataset/'\n",
    "test_identity = pd.read_csv(path + 'test_identity.csv')\n",
    "test_transaction = pd.read_csv(path + 'test_transaction.csv')\n",
    "\n",
    "test_identity = reduce_mem_usage(test_identity)\n",
    "test_transaction = reduce_mem_usage(test_transaction)\n",
    "\n",
    "print(\"test: Identitiy Dataset Shape: \", test_identity.shape)\n",
    "print(\"test: Transaction Dataset Shape: \", test_transaction.shape)"
   ]
  },
  {
   "cell_type": "code",
   "execution_count": 15,
   "metadata": {
    "ExecuteTime": {
     "end_time": "2020-06-29T10:02:38.973107Z",
     "start_time": "2020-06-29T10:02:38.855132Z"
    }
   },
   "outputs": [],
   "source": [
    "submission = pd.read_csv(path + 'sample_submission.csv')"
   ]
  },
  {
   "cell_type": "markdown",
   "metadata": {},
   "source": [
    "# 데이터 설명 및 요약\n",
    "\n",
    "## 데이터 설명\n",
    "\n",
    "[Data Description (Details and Discussion)](https://www.kaggle.com/c/ieee-fraud-detection/discussion/101203)을 통해 주어진 데이터 정의서는 다음과 같다.\n",
    "\n",
    "### 거래(Transaction) 데이터\n",
    "\n",
    "- TransactionDT: 지정된 시점으로부터 지난 시간(실제 타임스탬프는 아님)\n",
    "- TransactionAMT: 거래 결제 금액(USD)\n",
    "- ProductCD: 거래에 대한 제품 코드\n",
    "- card1 - card6: 카드의 종류, 카드의 카테고리, 카드 발급 은행, 발급 국가 등 결제 카드 정보\n",
    "- addr: 주소\n",
    "- dist: 거리\n",
    "- P_ and (R_) emalildomain: 구매자(Purchaser) 및 수령인(Recipient)의 이메일 도메인\n",
    "- C1 - C14: 결제 카드와 관련된 주소가 몇 개인지 계산.(실제 의미는 마스킹된다.)\n",
    "- D1 - D15: 이전 거래까지의 시간\n",
    "- M1 - M5: 카드 소유자와 주소의 매치 여부\n",
    "- Vxxx: 주최측인 Vesta가 기타 기업 관계에 대한 순위 및 빈도를 포함한 다양한 변수들.\n",
    "\n",
    "여기에서 카테고리 변수는 다음과 같다.\n",
    "- ProductCD\n",
    "- card1 - card6\n",
    "- addr1, addr2\n",
    "- Pemaildomain, Remaildomain\n",
    "- M1 - M9"
   ]
  },
  {
   "cell_type": "markdown",
   "metadata": {},
   "source": [
    "## 데이터 요약\n",
    "\n",
    "정의한 함수를 이용하여 데이터 요약 테이블을 생성한다. .describe()와 달리, 컬럼별 고유값, Null값을 확인할 수 있다."
   ]
  },
  {
   "cell_type": "code",
   "execution_count": 14,
   "metadata": {
    "ExecuteTime": {
     "end_time": "2020-06-29T09:47:30.342641Z",
     "start_time": "2020-06-29T09:47:27.798574Z"
    }
   },
   "outputs": [
    {
     "name": "stdout",
     "output_type": "stream",
     "text": [
      "Dataset Shape: (590540, 25)\n"
     ]
    },
    {
     "data": {
      "text/html": [
       "<div>\n",
       "<style scoped>\n",
       "    .dataframe tbody tr th:only-of-type {\n",
       "        vertical-align: middle;\n",
       "    }\n",
       "\n",
       "    .dataframe tbody tr th {\n",
       "        vertical-align: top;\n",
       "    }\n",
       "\n",
       "    .dataframe thead th {\n",
       "        text-align: right;\n",
       "    }\n",
       "</style>\n",
       "<table border=\"1\" class=\"dataframe\">\n",
       "  <thead>\n",
       "    <tr style=\"text-align: right;\">\n",
       "      <th></th>\n",
       "      <th>Name</th>\n",
       "      <th>dtypes</th>\n",
       "      <th>Missing</th>\n",
       "      <th>Uniques</th>\n",
       "      <th>First Value</th>\n",
       "      <th>Second Value</th>\n",
       "      <th>Third Value</th>\n",
       "      <th>Entropy</th>\n",
       "    </tr>\n",
       "  </thead>\n",
       "  <tbody>\n",
       "    <tr>\n",
       "      <th>0</th>\n",
       "      <td>TransactionID</td>\n",
       "      <td>int32</td>\n",
       "      <td>0</td>\n",
       "      <td>590540</td>\n",
       "      <td>2987000</td>\n",
       "      <td>2987001</td>\n",
       "      <td>2987002</td>\n",
       "      <td>19.17</td>\n",
       "    </tr>\n",
       "    <tr>\n",
       "      <th>1</th>\n",
       "      <td>isFraud</td>\n",
       "      <td>int8</td>\n",
       "      <td>0</td>\n",
       "      <td>2</td>\n",
       "      <td>0</td>\n",
       "      <td>0</td>\n",
       "      <td>0</td>\n",
       "      <td>0.22</td>\n",
       "    </tr>\n",
       "    <tr>\n",
       "      <th>2</th>\n",
       "      <td>TransactionDT</td>\n",
       "      <td>int32</td>\n",
       "      <td>0</td>\n",
       "      <td>573349</td>\n",
       "      <td>86400</td>\n",
       "      <td>86401</td>\n",
       "      <td>86469</td>\n",
       "      <td>19.11</td>\n",
       "    </tr>\n",
       "    <tr>\n",
       "      <th>3</th>\n",
       "      <td>TransactionAmt</td>\n",
       "      <td>float16</td>\n",
       "      <td>0</td>\n",
       "      <td>8195</td>\n",
       "      <td>68.5</td>\n",
       "      <td>29</td>\n",
       "      <td>59</td>\n",
       "      <td>8.10</td>\n",
       "    </tr>\n",
       "    <tr>\n",
       "      <th>4</th>\n",
       "      <td>ProductCD</td>\n",
       "      <td>object</td>\n",
       "      <td>0</td>\n",
       "      <td>5</td>\n",
       "      <td>W</td>\n",
       "      <td>W</td>\n",
       "      <td>W</td>\n",
       "      <td>1.28</td>\n",
       "    </tr>\n",
       "    <tr>\n",
       "      <th>5</th>\n",
       "      <td>card1</td>\n",
       "      <td>int16</td>\n",
       "      <td>0</td>\n",
       "      <td>13553</td>\n",
       "      <td>13926</td>\n",
       "      <td>2755</td>\n",
       "      <td>4663</td>\n",
       "      <td>9.97</td>\n",
       "    </tr>\n",
       "    <tr>\n",
       "      <th>6</th>\n",
       "      <td>card2</td>\n",
       "      <td>float16</td>\n",
       "      <td>8933</td>\n",
       "      <td>500</td>\n",
       "      <td>NaN</td>\n",
       "      <td>404</td>\n",
       "      <td>490</td>\n",
       "      <td>6.32</td>\n",
       "    </tr>\n",
       "    <tr>\n",
       "      <th>7</th>\n",
       "      <td>card3</td>\n",
       "      <td>float16</td>\n",
       "      <td>1565</td>\n",
       "      <td>114</td>\n",
       "      <td>150</td>\n",
       "      <td>150</td>\n",
       "      <td>150</td>\n",
       "      <td>0.68</td>\n",
       "    </tr>\n",
       "    <tr>\n",
       "      <th>8</th>\n",
       "      <td>card4</td>\n",
       "      <td>object</td>\n",
       "      <td>1577</td>\n",
       "      <td>4</td>\n",
       "      <td>discover</td>\n",
       "      <td>mastercard</td>\n",
       "      <td>visa</td>\n",
       "      <td>1.09</td>\n",
       "    </tr>\n",
       "    <tr>\n",
       "      <th>9</th>\n",
       "      <td>card5</td>\n",
       "      <td>float16</td>\n",
       "      <td>4259</td>\n",
       "      <td>119</td>\n",
       "      <td>142</td>\n",
       "      <td>102</td>\n",
       "      <td>166</td>\n",
       "      <td>2.66</td>\n",
       "    </tr>\n",
       "    <tr>\n",
       "      <th>10</th>\n",
       "      <td>card6</td>\n",
       "      <td>object</td>\n",
       "      <td>1571</td>\n",
       "      <td>4</td>\n",
       "      <td>credit</td>\n",
       "      <td>credit</td>\n",
       "      <td>debit</td>\n",
       "      <td>0.82</td>\n",
       "    </tr>\n",
       "    <tr>\n",
       "      <th>11</th>\n",
       "      <td>addr1</td>\n",
       "      <td>float16</td>\n",
       "      <td>65706</td>\n",
       "      <td>332</td>\n",
       "      <td>315</td>\n",
       "      <td>325</td>\n",
       "      <td>330</td>\n",
       "      <td>5.06</td>\n",
       "    </tr>\n",
       "    <tr>\n",
       "      <th>12</th>\n",
       "      <td>addr2</td>\n",
       "      <td>float16</td>\n",
       "      <td>65706</td>\n",
       "      <td>74</td>\n",
       "      <td>87</td>\n",
       "      <td>87</td>\n",
       "      <td>87</td>\n",
       "      <td>0.08</td>\n",
       "    </tr>\n",
       "    <tr>\n",
       "      <th>13</th>\n",
       "      <td>dist1</td>\n",
       "      <td>float16</td>\n",
       "      <td>352271</td>\n",
       "      <td>2412</td>\n",
       "      <td>19</td>\n",
       "      <td>NaN</td>\n",
       "      <td>287</td>\n",
       "      <td>6.33</td>\n",
       "    </tr>\n",
       "    <tr>\n",
       "      <th>14</th>\n",
       "      <td>dist2</td>\n",
       "      <td>float16</td>\n",
       "      <td>552913</td>\n",
       "      <td>1699</td>\n",
       "      <td>NaN</td>\n",
       "      <td>NaN</td>\n",
       "      <td>NaN</td>\n",
       "      <td>7.41</td>\n",
       "    </tr>\n",
       "    <tr>\n",
       "      <th>15</th>\n",
       "      <td>P_emaildomain</td>\n",
       "      <td>object</td>\n",
       "      <td>94456</td>\n",
       "      <td>59</td>\n",
       "      <td>NaN</td>\n",
       "      <td>gmail.com</td>\n",
       "      <td>outlook.com</td>\n",
       "      <td>2.68</td>\n",
       "    </tr>\n",
       "    <tr>\n",
       "      <th>16</th>\n",
       "      <td>R_emaildomain</td>\n",
       "      <td>object</td>\n",
       "      <td>453249</td>\n",
       "      <td>60</td>\n",
       "      <td>NaN</td>\n",
       "      <td>NaN</td>\n",
       "      <td>NaN</td>\n",
       "      <td>2.76</td>\n",
       "    </tr>\n",
       "    <tr>\n",
       "      <th>17</th>\n",
       "      <td>C1</td>\n",
       "      <td>float16</td>\n",
       "      <td>0</td>\n",
       "      <td>1495</td>\n",
       "      <td>1</td>\n",
       "      <td>1</td>\n",
       "      <td>1</td>\n",
       "      <td>2.72</td>\n",
       "    </tr>\n",
       "    <tr>\n",
       "      <th>18</th>\n",
       "      <td>C2</td>\n",
       "      <td>float16</td>\n",
       "      <td>0</td>\n",
       "      <td>1167</td>\n",
       "      <td>1</td>\n",
       "      <td>1</td>\n",
       "      <td>1</td>\n",
       "      <td>2.75</td>\n",
       "    </tr>\n",
       "    <tr>\n",
       "      <th>19</th>\n",
       "      <td>C3</td>\n",
       "      <td>float16</td>\n",
       "      <td>0</td>\n",
       "      <td>27</td>\n",
       "      <td>0</td>\n",
       "      <td>0</td>\n",
       "      <td>0</td>\n",
       "      <td>0.04</td>\n",
       "    </tr>\n",
       "    <tr>\n",
       "      <th>20</th>\n",
       "      <td>C4</td>\n",
       "      <td>float16</td>\n",
       "      <td>0</td>\n",
       "      <td>1223</td>\n",
       "      <td>0</td>\n",
       "      <td>0</td>\n",
       "      <td>0</td>\n",
       "      <td>1.12</td>\n",
       "    </tr>\n",
       "    <tr>\n",
       "      <th>21</th>\n",
       "      <td>C5</td>\n",
       "      <td>float16</td>\n",
       "      <td>0</td>\n",
       "      <td>319</td>\n",
       "      <td>0</td>\n",
       "      <td>0</td>\n",
       "      <td>0</td>\n",
       "      <td>2.06</td>\n",
       "    </tr>\n",
       "    <tr>\n",
       "      <th>22</th>\n",
       "      <td>C6</td>\n",
       "      <td>float16</td>\n",
       "      <td>0</td>\n",
       "      <td>1291</td>\n",
       "      <td>1</td>\n",
       "      <td>1</td>\n",
       "      <td>1</td>\n",
       "      <td>2.52</td>\n",
       "    </tr>\n",
       "    <tr>\n",
       "      <th>23</th>\n",
       "      <td>C7</td>\n",
       "      <td>float16</td>\n",
       "      <td>0</td>\n",
       "      <td>1069</td>\n",
       "      <td>0</td>\n",
       "      <td>0</td>\n",
       "      <td>0</td>\n",
       "      <td>0.71</td>\n",
       "    </tr>\n",
       "    <tr>\n",
       "      <th>24</th>\n",
       "      <td>C8</td>\n",
       "      <td>float16</td>\n",
       "      <td>0</td>\n",
       "      <td>1130</td>\n",
       "      <td>0</td>\n",
       "      <td>0</td>\n",
       "      <td>0</td>\n",
       "      <td>1.25</td>\n",
       "    </tr>\n",
       "  </tbody>\n",
       "</table>\n",
       "</div>"
      ],
      "text/plain": [
       "              Name   dtypes  Missing  Uniques First Value Second Value  \\\n",
       "0    TransactionID    int32        0   590540     2987000      2987001   \n",
       "1          isFraud     int8        0        2           0            0   \n",
       "2    TransactionDT    int32        0   573349       86400        86401   \n",
       "3   TransactionAmt  float16        0     8195        68.5           29   \n",
       "4        ProductCD   object        0        5           W            W   \n",
       "5            card1    int16        0    13553       13926         2755   \n",
       "6            card2  float16     8933      500         NaN          404   \n",
       "7            card3  float16     1565      114         150          150   \n",
       "8            card4   object     1577        4    discover   mastercard   \n",
       "9            card5  float16     4259      119         142          102   \n",
       "10           card6   object     1571        4      credit       credit   \n",
       "11           addr1  float16    65706      332         315          325   \n",
       "12           addr2  float16    65706       74          87           87   \n",
       "13           dist1  float16   352271     2412          19          NaN   \n",
       "14           dist2  float16   552913     1699         NaN          NaN   \n",
       "15   P_emaildomain   object    94456       59         NaN    gmail.com   \n",
       "16   R_emaildomain   object   453249       60         NaN          NaN   \n",
       "17              C1  float16        0     1495           1            1   \n",
       "18              C2  float16        0     1167           1            1   \n",
       "19              C3  float16        0       27           0            0   \n",
       "20              C4  float16        0     1223           0            0   \n",
       "21              C5  float16        0      319           0            0   \n",
       "22              C6  float16        0     1291           1            1   \n",
       "23              C7  float16        0     1069           0            0   \n",
       "24              C8  float16        0     1130           0            0   \n",
       "\n",
       "    Third Value  Entropy  \n",
       "0       2987002    19.17  \n",
       "1             0     0.22  \n",
       "2         86469    19.11  \n",
       "3            59     8.10  \n",
       "4             W     1.28  \n",
       "5          4663     9.97  \n",
       "6           490     6.32  \n",
       "7           150     0.68  \n",
       "8          visa     1.09  \n",
       "9           166     2.66  \n",
       "10        debit     0.82  \n",
       "11          330     5.06  \n",
       "12           87     0.08  \n",
       "13          287     6.33  \n",
       "14          NaN     7.41  \n",
       "15  outlook.com     2.68  \n",
       "16          NaN     2.76  \n",
       "17            1     2.72  \n",
       "18            1     2.75  \n",
       "19            0     0.04  \n",
       "20            0     1.12  \n",
       "21            0     2.06  \n",
       "22            1     2.52  \n",
       "23            0     0.71  \n",
       "24            0     1.25  "
      ]
     },
     "execution_count": 14,
     "metadata": {},
     "output_type": "execute_result"
    }
   ],
   "source": [
    "resumetable(train_transaction[train_transaction.columns[:25]])"
   ]
  },
  {
   "cell_type": "markdown",
   "metadata": {},
   "source": [
    "# TransactionDT"
   ]
  }
 ],
 "metadata": {
  "kernelspec": {
   "display_name": "Python 3",
   "language": "python",
   "name": "python3"
  },
  "language_info": {
   "codemirror_mode": {
    "name": "ipython",
    "version": 3
   },
   "file_extension": ".py",
   "mimetype": "text/x-python",
   "name": "python",
   "nbconvert_exporter": "python",
   "pygments_lexer": "ipython3",
   "version": "3.7.7"
  },
  "toc": {
   "base_numbering": 1,
   "nav_menu": {},
   "number_sections": true,
   "sideBar": true,
   "skip_h1_title": false,
   "title_cell": "Table of Contents",
   "title_sidebar": "Contents",
   "toc_cell": false,
   "toc_position": {},
   "toc_section_display": true,
   "toc_window_display": true
  },
  "varInspector": {
   "cols": {
    "lenName": 16,
    "lenType": 16,
    "lenVar": 40
   },
   "kernels_config": {
    "python": {
     "delete_cmd_postfix": "",
     "delete_cmd_prefix": "del ",
     "library": "var_list.py",
     "varRefreshCmd": "print(var_dic_list())"
    },
    "r": {
     "delete_cmd_postfix": ") ",
     "delete_cmd_prefix": "rm(",
     "library": "var_list.r",
     "varRefreshCmd": "cat(var_dic_list()) "
    }
   },
   "types_to_exclude": [
    "module",
    "function",
    "builtin_function_or_method",
    "instance",
    "_Feature"
   ],
   "window_display": false
  }
 },
 "nbformat": 4,
 "nbformat_minor": 4
}
